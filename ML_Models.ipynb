{
  "nbformat": 4,
  "nbformat_minor": 0,
  "metadata": {
    "colab": {
      "name": "ML_Models.ipynb",
      "provenance": [],
      "collapsed_sections": []
    },
    "kernelspec": {
      "name": "python3",
      "display_name": "Python 3"
    },
    "language_info": {
      "name": "python"
    }
  },
  "cells": [
    {
      "cell_type": "code",
      "execution_count": null,
      "metadata": {
        "colab": {
          "base_uri": "https://localhost:8080/"
        },
        "id": "UqlJl3Iyyjkt",
        "outputId": "30502daa-b562-4b19-b105-dc102674f17b"
      },
      "outputs": [
        {
          "output_type": "stream",
          "name": "stdout",
          "text": [
            "Mounted at /content/drive\n"
          ]
        }
      ],
      "source": [
        "from google.colab import drive\n",
        "drive.mount('/content/drive')"
      ]
    },
    {
      "cell_type": "code",
      "source": [
        "import csv\n",
        "import pandas as pd\n",
        "import numpy as np\n",
        "from sklearn.svm import SVC\n",
        "from sklearn.metrics import classification_report, confusion_matrix\n",
        "from sklearn.metrics import confusion_matrix\n",
        "from sklearn.model_selection import train_test_split\n",
        "from sklearn.tree import DecisionTreeClassifier # Import Decision Tree Classifier\n",
        "from sklearn.neighbors import KNeighborsClassifier # Import KNN Classifier\n",
        "from sklearn.ensemble import RandomForestClassifier #Import Random Forest Classifier\n",
        "from sklearn.naive_bayes import GaussianNB #Import Gaussian Naive Bayes model"
      ],
      "metadata": {
        "id": "ojAYckdZysCD"
      },
      "execution_count": null,
      "outputs": []
    },
    {
      "cell_type": "markdown",
      "source": [
        "***ML MODEL VALIDATION***"
      ],
      "metadata": {
        "id": "Ol2zCL5Q2Gn-"
      }
    },
    {
      "cell_type": "code",
      "source": [
        "with open ('/content/drive/My Drive/FYP-DATA/Model.csv','r') as f:      #taggg2 file\n",
        "  passage=list(csv.reader(f,delimiter=','))\n",
        "f.close()\n",
        "X=np.array(passage)\n",
        "X=X[1:]\n",
        "np.random.shuffle(X)\n",
        "Y=X[:,4]\n",
        "Y1=X[:,4]\n",
        "X=X[:,1:4]\n",
        "X1=X[:,1:4]\n",
        "x_train=X\n",
        "y_train=Y"
      ],
      "metadata": {
        "id": "leFE1CYA2GIQ"
      },
      "execution_count": null,
      "outputs": []
    },
    {
      "cell_type": "code",
      "source": [
        "with open ('/content/drive/My Drive/FYP-Files/Testing/test.csv','r') as f:      #taggg2 file\n",
        "  passage=list(csv.reader(f,delimiter=','))\n",
        "f.close()\n",
        "X=np.array(passage)\n",
        "X=X[1:]\n",
        "np.random.shuffle(X)\n",
        "Y=X[:,3]\n",
        "Y1=X[:,3]\n",
        "X=X[:,0:3]\n",
        "X1=X[:,0:3]\n",
        "x_test=X\n",
        "y_test=Y"
      ],
      "metadata": {
        "id": "dJNBwRhz21ld"
      },
      "execution_count": null,
      "outputs": []
    },
    {
      "cell_type": "code",
      "source": [
        "with open ('/content/drive/My Drive/FYP-DATA/Model.csv','r') as f:      #taggg2 file\n",
        "  passage=list(csv.reader(f,delimiter=','))\n",
        "f.close()\n",
        "X=np.array(passage)\n",
        "X=X[1:]\n",
        "np.random.shuffle(X)\n",
        "Y=X[:,4]\n",
        "Y1=X[:,4]\n",
        "X=X[:,1:4]\n",
        "X1=X[:,1:4]\n",
        "x_train,x_test,y_train,y_test=train_test_split(X,Y,test_size=0.2)"
      ],
      "metadata": {
        "id": "VR6zuUz4y3S_"
      },
      "execution_count": null,
      "outputs": []
    },
    {
      "cell_type": "markdown",
      "source": [
        "***KNN***"
      ],
      "metadata": {
        "id": "RM9kIWa2y_sQ"
      }
    },
    {
      "cell_type": "code",
      "source": [
        "knn = KNeighborsClassifier(n_neighbors=8)\n",
        "#Train the model using the training sets\n",
        "knn.fit(x_train, y_train)\n",
        "\n",
        "#Predict the response for test dataset\n",
        "y_pred = knn.predict(x_test)\n",
        "\n",
        "#print(\"Predicted value of: \",x_test,\"is: \",y_pred)\n",
        "#Import scikit-learn metrics module for accuracy calculation\n",
        "from sklearn import metrics\n",
        "\n",
        "# Model Accuracy, how often is the classifier correct?\n",
        "print(\"Accuracy:\",metrics.accuracy_score(y_test, y_pred)*100)"
      ],
      "metadata": {
        "colab": {
          "base_uri": "https://localhost:8080/"
        },
        "id": "ER_eDhOBy79N",
        "outputId": "a16be84a-39d9-42b2-e0b7-0f4314b21ce8"
      },
      "execution_count": null,
      "outputs": [
        {
          "output_type": "stream",
          "name": "stderr",
          "text": [
            "/usr/local/lib/python3.7/dist-packages/sklearn/utils/validation.py:976: FutureWarning: Arrays of bytes/strings is being converted to decimal numbers if dtype='numeric'. This behavior is deprecated in 0.24 and will be removed in 1.1 (renaming of 0.26). Please convert your data to numeric values explicitly instead.\n",
            "  estimator=estimator,\n"
          ]
        },
        {
          "output_type": "stream",
          "name": "stdout",
          "text": [
            "Accuracy: 59.726027397260275\n"
          ]
        },
        {
          "output_type": "stream",
          "name": "stderr",
          "text": [
            "/usr/local/lib/python3.7/dist-packages/sklearn/base.py:566: FutureWarning: Arrays of bytes/strings is being converted to decimal numbers if dtype='numeric'. This behavior is deprecated in 0.24 and will be removed in 1.1 (renaming of 0.26). Please convert your data to numeric values explicitly instead.\n",
            "  X = check_array(X, **check_params)\n"
          ]
        }
      ]
    },
    {
      "cell_type": "code",
      "source": [
        "import pickle \n",
        "pickle.dump(knn,open('/content/drive/My Drive/FYP1/ML_Model_Files/model.pkl','wb'))"
      ],
      "metadata": {
        "id": "b5CEExLg9Uho",
        "colab": {
          "base_uri": "https://localhost:8080/",
          "height": 187
        },
        "outputId": "24085445-ed02-466a-8238-e593ea691b09"
      },
      "execution_count": null,
      "outputs": [
        {
          "output_type": "error",
          "ename": "FileNotFoundError",
          "evalue": "ignored",
          "traceback": [
            "\u001b[0;31m---------------------------------------------------------------------------\u001b[0m",
            "\u001b[0;31mFileNotFoundError\u001b[0m                         Traceback (most recent call last)",
            "\u001b[0;32m<ipython-input-6-90e80bdfc65d>\u001b[0m in \u001b[0;36m<module>\u001b[0;34m()\u001b[0m\n\u001b[1;32m      1\u001b[0m \u001b[0;32mimport\u001b[0m \u001b[0mpickle\u001b[0m\u001b[0;34m\u001b[0m\u001b[0;34m\u001b[0m\u001b[0m\n\u001b[0;32m----> 2\u001b[0;31m \u001b[0mpickle\u001b[0m\u001b[0;34m.\u001b[0m\u001b[0mdump\u001b[0m\u001b[0;34m(\u001b[0m\u001b[0mknn\u001b[0m\u001b[0;34m,\u001b[0m\u001b[0mopen\u001b[0m\u001b[0;34m(\u001b[0m\u001b[0;34m'/content/drive/My Drive/FYP1/ML_Model_Files/model.pkl'\u001b[0m\u001b[0;34m,\u001b[0m\u001b[0;34m'wb'\u001b[0m\u001b[0;34m)\u001b[0m\u001b[0;34m)\u001b[0m\u001b[0;34m\u001b[0m\u001b[0;34m\u001b[0m\u001b[0m\n\u001b[0m",
            "\u001b[0;31mFileNotFoundError\u001b[0m: [Errno 2] No such file or directory: '/content/drive/My Drive/FYP1/ML_Model_Files/model.pkl'"
          ]
        }
      ]
    },
    {
      "cell_type": "markdown",
      "source": [
        "***Decision Tree Classifier***"
      ],
      "metadata": {
        "id": "YIWg-xe_zOao"
      }
    },
    {
      "cell_type": "code",
      "source": [
        "# Create Decision Tree classifer object\n",
        "clf = DecisionTreeClassifier(criterion=\"entropy\", max_depth=3)\n",
        "\n",
        "# Train Decision Tree Classifer\n",
        "clf = clf.fit(x_train,y_train)\n",
        "\n",
        "#Predict the response for test dataset\n",
        "y_pred = clf.predict(x_test)\n",
        "\n",
        "# Model Accuracy, how often is the classifier correct?\n",
        "print(\"Accuracy:\",metrics.accuracy_score(y_test, y_pred)*100)"
      ],
      "metadata": {
        "colab": {
          "base_uri": "https://localhost:8080/"
        },
        "id": "N4zf-_gmzFeH",
        "outputId": "65212589-14a7-4737-c508-ed1ed9277c72"
      },
      "execution_count": null,
      "outputs": [
        {
          "output_type": "stream",
          "name": "stdout",
          "text": [
            "Accuracy: 53.76712328767124\n"
          ]
        }
      ]
    },
    {
      "cell_type": "markdown",
      "source": [
        "***Random Forest Classifier***"
      ],
      "metadata": {
        "id": "FDW-yqXYza5I"
      }
    },
    {
      "cell_type": "code",
      "source": [
        "#Create a Gaussian Classifier\n",
        "clf=RandomForestClassifier(n_estimators=100)\n",
        "\n",
        "#Train the model using the training sets y_pred=clf.predict(X_test)\n",
        "clf.fit(x_train,y_train)\n",
        "\n",
        "y_pred=clf.predict(x_test)\n",
        "\n",
        "# Model Accuracy, how often is the classifier correct?\n",
        "print(\"Accuracy:\",metrics.accuracy_score(y_test, y_pred)*100)"
      ],
      "metadata": {
        "colab": {
          "base_uri": "https://localhost:8080/"
        },
        "id": "9_vUNnCMzVKF",
        "outputId": "a33b9a96-898f-418e-a6ce-2db81193789c"
      },
      "execution_count": null,
      "outputs": [
        {
          "output_type": "stream",
          "name": "stdout",
          "text": [
            "Accuracy: 63.6986301369863\n"
          ]
        }
      ]
    },
    {
      "cell_type": "markdown",
      "source": [
        "***Niave Bayes Classifier***"
      ],
      "metadata": {
        "id": "ulKBLGHkzn_z"
      }
    },
    {
      "cell_type": "code",
      "source": [
        "#Create a Gaussian Classifier\n",
        "gnb = GaussianNB()\n",
        "\n",
        "#Train the model using the training sets\n",
        "x_train=np.array(x_train).astype(np.float)\n",
        "gnb.fit(x_train, y_train)\n",
        "\n",
        "x_test=np.array(x_test).astype(np.float)\n",
        "#Predict the response for test dataset\n",
        "y_pred = gnb.predict(x_test)\n",
        "\n",
        "\n",
        "# Model Accuracy, how often is the classifier correct?\n",
        "print(\"Accuracy:\",metrics.accuracy_score(y_test, y_pred)*100)"
      ],
      "metadata": {
        "colab": {
          "base_uri": "https://localhost:8080/"
        },
        "id": "i2-rZXm0zi-8",
        "outputId": "e539fd1a-2a32-4ade-8715-cb7b6b583265"
      },
      "execution_count": null,
      "outputs": [
        {
          "output_type": "stream",
          "name": "stderr",
          "text": [
            "/usr/local/lib/python3.7/dist-packages/ipykernel_launcher.py:5: DeprecationWarning: `np.float` is a deprecated alias for the builtin `float`. To silence this warning, use `float` by itself. Doing this will not modify any behavior and is safe. If you specifically wanted the numpy scalar type, use `np.float64` here.\n",
            "Deprecated in NumPy 1.20; for more details and guidance: https://numpy.org/devdocs/release/1.20.0-notes.html#deprecations\n",
            "  \"\"\"\n"
          ]
        },
        {
          "output_type": "stream",
          "name": "stdout",
          "text": [
            "Accuracy: 45.54794520547945\n"
          ]
        },
        {
          "output_type": "stream",
          "name": "stderr",
          "text": [
            "/usr/local/lib/python3.7/dist-packages/ipykernel_launcher.py:8: DeprecationWarning: `np.float` is a deprecated alias for the builtin `float`. To silence this warning, use `float` by itself. Doing this will not modify any behavior and is safe. If you specifically wanted the numpy scalar type, use `np.float64` here.\n",
            "Deprecated in NumPy 1.20; for more details and guidance: https://numpy.org/devdocs/release/1.20.0-notes.html#deprecations\n",
            "  \n"
          ]
        }
      ]
    },
    {
      "cell_type": "markdown",
      "source": [
        "***MultiClass SVM***"
      ],
      "metadata": {
        "id": "TeO3f3PMz2cP"
      }
    },
    {
      "cell_type": "markdown",
      "source": [
        "***SVM Parameters***\n",
        "\n",
        "*   C is just a penality level --- if give high value of c (e.g., 1000) means assigning the high penality when model misclassify. we should not give high value because then we have overfitted model and very low value will lead to inderfitting so moderate value btw 0.1 to 100 is normally good. "
      ],
      "metadata": {
        "id": "YSV_arcM0bIs"
      }
    },
    {
      "cell_type": "code",
      "source": [
        "kernel=['linear','rbf','poly', 'sigmoid']\n",
        "for i in kernel:\n",
        "  svclassifier = SVC(kernel=i)\n",
        "  svclassifier.fit(x_train, y_train)\n",
        "  print(\"For kernel : \",i)\n",
        "  print(\"Accuracy is : \",svclassifier.score(x_test,y_test))"
      ],
      "metadata": {
        "id": "iH-L1A7tzuIu"
      },
      "execution_count": null,
      "outputs": []
    },
    {
      "cell_type": "code",
      "source": [
        "svclassifier = SVC(kernel='rbf',C=1, gamma=1)\n",
        "svclassifier.fit(x_train, y_train)"
      ],
      "metadata": {
        "id": "B0Z-9Fc83zvD",
        "colab": {
          "base_uri": "https://localhost:8080/"
        },
        "outputId": "6eee851a-5dcb-4819-9279-e0b4584dc83f"
      },
      "execution_count": null,
      "outputs": [
        {
          "output_type": "execute_result",
          "data": {
            "text/plain": [
              "SVC(C=1, gamma=1)"
            ]
          },
          "metadata": {},
          "execution_count": 4
        }
      ]
    },
    {
      "cell_type": "code",
      "source": [
        "y_pred = svclassifier.predict(x_test)"
      ],
      "metadata": {
        "id": "f_0RqUyy0OPQ"
      },
      "execution_count": null,
      "outputs": []
    },
    {
      "cell_type": "code",
      "source": [
        "from sklearn.metrics import classification_report, confusion_matrix\n",
        "labels=['Jalsa', 'Qayam', 'Qoum', 'Ruku','Sajda','Tashahud']\n",
        "print(confusion_matrix(y_test,y_pred,labels=labels))\n",
        "print(classification_report(y_test,y_pred))"
      ],
      "metadata": {
        "colab": {
          "base_uri": "https://localhost:8080/"
        },
        "id": "o1k6ayqw0oW1",
        "outputId": "46177b38-f412-4a16-b0f5-d1668c642af0"
      },
      "execution_count": null,
      "outputs": [
        {
          "output_type": "stream",
          "name": "stdout",
          "text": [
            "[[ 28   4  13   4   9  41]\n",
            " [  4 421   4   6  12  12]\n",
            " [ 16   6  34   1  24   8]\n",
            " [  5   2  19  48  79   1]\n",
            " [ 79   4   6   3 109  35]\n",
            " [ 95   6  11   0  50 261]]\n",
            "              precision    recall  f1-score   support\n",
            "\n",
            "       Jalsa       0.12      0.28      0.17        99\n",
            "       Qayam       0.95      0.92      0.93       459\n",
            "        Qoum       0.39      0.38      0.39        89\n",
            "        Ruku       0.77      0.31      0.44       154\n",
            "       Sajda       0.39      0.46      0.42       236\n",
            "    Tashahud       0.73      0.62      0.67       423\n",
            "\n",
            "    accuracy                           0.62      1460\n",
            "   macro avg       0.56      0.50      0.50      1460\n",
            "weighted avg       0.69      0.62      0.64      1460\n",
            "\n"
          ]
        }
      ]
    },
    {
      "cell_type": "code",
      "source": [
        "from sklearn.metrics import accuracy_score, f1_score, precision_score, recall_score\n",
        "print(\"Accuracy: \",accuracy_score(y_test,y_pred))\n",
        "print(\"F1_score: \",f1_score(y_test, y_pred, average=\"macro\"))\n",
        "print(\"Precision: \",precision_score(y_test, y_pred, average=\"macro\"))\n",
        "print(\"Recall: \",recall_score(y_test, y_pred, average=\"macro\"))    "
      ],
      "metadata": {
        "colab": {
          "base_uri": "https://localhost:8080/"
        },
        "id": "Y_HbDfnO0wu4",
        "outputId": "9ec733fd-c9c4-4451-f818-92d819b43dbc"
      },
      "execution_count": null,
      "outputs": [
        {
          "output_type": "stream",
          "name": "stdout",
          "text": [
            "Accuracy:  0.6171232876712329\n",
            "F1_score:  0.5040801316987801\n",
            "Precision:  0.5588156756818624\n",
            "Recall:  0.4954393464630246\n"
          ]
        }
      ]
    },
    {
      "cell_type": "code",
      "source": [
        "import pickle\n",
        "pickle.dump(svclassifier,open('/content/drive/My Drive/FYP-Files/Model.pkl','wb'))"
      ],
      "metadata": {
        "id": "eakXXTLPIW71"
      },
      "execution_count": null,
      "outputs": []
    },
    {
      "cell_type": "markdown",
      "source": [
        "***Parameter Tuning***"
      ],
      "metadata": {
        "id": "q_aHbVft5CzY"
      }
    },
    {
      "cell_type": "code",
      "source": [
        "from sklearn.model_selection import GridSearchCV\n",
        "param_grid={'C':[0.1, 1, 10, 100, 1000],'gamma': [1, 0.1, 0.01, 0.001, 0.0001],'kernel':['rbf']}\n",
        "grid=GridSearchCV(SVC(),param_grid)\n",
        "grid.fit(x_train,y_train)"
      ],
      "metadata": {
        "id": "wX23hmYP5HmU"
      },
      "execution_count": null,
      "outputs": []
    },
    {
      "cell_type": "code",
      "source": [
        "print(grid.best_params_)\n",
        "print(grid.score(x_test,y_test))"
      ],
      "metadata": {
        "colab": {
          "base_uri": "https://localhost:8080/"
        },
        "id": "LS96QXGFICEh",
        "outputId": "b54e15f1-2f1e-4075-bc1f-441e5e643187"
      },
      "execution_count": null,
      "outputs": [
        {
          "output_type": "stream",
          "name": "stdout",
          "text": [
            "{'C': 1, 'gamma': 1, 'kernel': 'rbf'}\n",
            "0.8132682132682133\n"
          ]
        }
      ]
    },
    {
      "cell_type": "markdown",
      "source": [
        "***One Class SVM Model***"
      ],
      "metadata": {
        "id": "1mR2fvHR0301"
      }
    },
    {
      "cell_type": "code",
      "source": [
        "# one-class svm for imbalanced binary classification\n",
        "from sklearn.datasets import make_classification\n",
        "from sklearn.model_selection import train_test_split\n",
        "from sklearn.metrics import f1_score\n",
        "from sklearn.metrics import accuracy_score, precision_score, recall_score\n",
        "from sklearn.metrics import confusion_matrix\n",
        "from sklearn.svm import OneClassSVM\n",
        "\n",
        "\n",
        "import csv\n",
        "import numpy as np\n",
        "with open ('/content/drive/My Drive/FYP1/OneClass_SVM_auto/AmnaOut/Sajda.csv','r') as f:      #taggg2 file\n",
        "  data=list(csv.reader(f,delimiter=','))\n",
        "with open ('/content/drive/My Drive/FYP1/OneClass_SVM_auto/AmnaOut/amnaSajda.csv','r') as f:      #taggg2 file\n",
        "  data1=list(csv.reader(f,delimiter=','))\n",
        "\n",
        "\n",
        "X=np.array(data)\n",
        "np.random.shuffle(X)\n",
        "amna=np.array(data1)\n",
        "np.random.shuffle(amna)\n",
        "\n",
        "trainX=X[:,0:3]\n",
        "trainy=X[:,3]\n",
        "testX=amna[:,0:3]\n",
        "testy=amna[:,3]\n",
        "\n",
        "trainy = trainy.astype(int)\n",
        "testy = testy.astype(int)\n",
        "\n",
        "# define outlier detection model\n",
        "model = OneClassSVM(kernel='rbf', gamma='scale',nu=0.001)\n",
        "# fit on majority class\n",
        "\n",
        "trainX = trainX[trainy==0]\n",
        "trainy = trainy[trainy==0]\n",
        "model.fit(trainX)\n",
        "# detect outliers in the test set\n",
        "yhat = model.predict(testX)\n",
        "# mark inliers 1, outliers -1\n",
        "testy[testy == 1] = -1\n",
        "testy[testy == 0] = 1\n",
        "# calculate score\n",
        "score = accuracy_score(testy, yhat)\n",
        "print(\"accuracy is: \", score*100)\n",
        "print(\"precision is: \", precision_score(testy, yhat))\n",
        "print(\"recall is: \", recall_score(testy, yhat))\n",
        "labels=[1,-1]\n",
        "print(confusion_matrix(testy,yhat,labels=labels))\n",
        "print(classification_report(testy,yhat))"
      ],
      "metadata": {
        "colab": {
          "base_uri": "https://localhost:8080/"
        },
        "id": "4V-i7m6x01ZU",
        "outputId": "cfa460cf-c876-4242-cc46-31ceb331952e"
      },
      "execution_count": null,
      "outputs": [
        {
          "output_type": "stream",
          "name": "stdout",
          "text": [
            "accuracy is:  96.28099173553719\n",
            "precision is:  0.9748953974895398\n",
            "recall is:  0.9872881355932204\n",
            "[[233   3]\n",
            " [  6   0]]\n",
            "              precision    recall  f1-score   support\n",
            "\n",
            "          -1       0.00      0.00      0.00         6\n",
            "           1       0.97      0.99      0.98       236\n",
            "\n",
            "    accuracy                           0.96       242\n",
            "   macro avg       0.49      0.49      0.49       242\n",
            "weighted avg       0.95      0.96      0.96       242\n",
            "\n"
          ]
        }
      ]
    },
    {
      "cell_type": "code",
      "source": [
        "from sklearn.metrics import make_scorer\n",
        "from sklearn.metrics import accuracy_score, precision_score, recall_score\n",
        "from sklearn.metrics import f1_score\n",
        "from sklearn.model_selection import GridSearchCV\n",
        "param_grid={'nu':[0.001, 0.01, 0.1, 1],'gamma': ['scale','auto'],'kernel':['rbf']}\n",
        "grid=GridSearchCV(OneClassSVM(),param_grid,scoring='accuracy')\n",
        "print(len(trainX),len(trainy))\n",
        "grid.fit(trainX,trainy)"
      ],
      "metadata": {
        "id": "2i0GWY6WHHSE",
        "colab": {
          "base_uri": "https://localhost:8080/"
        },
        "outputId": "4a2a5bac-8436-45f5-9353-20d1c99c4f0b"
      },
      "execution_count": null,
      "outputs": [
        {
          "output_type": "stream",
          "name": "stdout",
          "text": [
            "3901 3901\n"
          ]
        },
        {
          "output_type": "execute_result",
          "data": {
            "text/plain": [
              "GridSearchCV(estimator=OneClassSVM(),\n",
              "             param_grid={'gamma': ['scale', 'auto'], 'kernel': ['rbf'],\n",
              "                         'nu': [0.001, 0.01, 0.1, 1]},\n",
              "             scoring='accuracy')"
            ]
          },
          "metadata": {},
          "execution_count": 6
        }
      ]
    },
    {
      "cell_type": "code",
      "source": [
        "print(grid.best_params_)\n",
        "print(grid.score(testX,testy))"
      ],
      "metadata": {
        "colab": {
          "base_uri": "https://localhost:8080/"
        },
        "id": "__N4YwdN5HWM",
        "outputId": "7eab506c-c50d-4220-cb0b-6a6d54dd35c7"
      },
      "execution_count": null,
      "outputs": [
        {
          "output_type": "stream",
          "name": "stdout",
          "text": [
            "{'gamma': 'scale', 'kernel': 'rbf', 'nu': 0.001}\n",
            "0.9429824561403509\n"
          ]
        }
      ]
    },
    {
      "cell_type": "code",
      "source": [
        ""
      ],
      "metadata": {
        "id": "BXPXFZ5pEe75"
      },
      "execution_count": null,
      "outputs": []
    }
  ]
}