{
  "nbformat": 4,
  "nbformat_minor": 0,
  "metadata": {
    "colab": {
      "name": "SalahOntology.ipynb",
      "provenance": []
    },
    "kernelspec": {
      "name": "python3",
      "display_name": "Python 3"
    },
    "language_info": {
      "name": "python"
    }
  },
  "cells": [
    {
      "cell_type": "code",
      "execution_count": 1,
      "metadata": {
        "colab": {
          "base_uri": "https://localhost:8080/"
        },
        "id": "lTo9OyW0wEOs",
        "outputId": "010ca128-ef15-4309-d97f-20b1c683c503"
      },
      "outputs": [
        {
          "output_type": "stream",
          "name": "stdout",
          "text": [
            "Collecting owlready2\n",
            "  Downloading Owlready2-0.35.tar.gz (23.8 MB)\n",
            "\u001b[K     |████████████████████████████████| 23.8 MB 40.1 MB/s \n",
            "\u001b[?25hBuilding wheels for collected packages: owlready2\n",
            "  Building wheel for owlready2 (setup.py) ... \u001b[?25l\u001b[?25hdone\n",
            "  Created wheel for owlready2: filename=Owlready2-0.35-cp37-cp37m-linux_x86_64.whl size=20432814 sha256=2cb2b84c3894df4d5e5d45d859478e448eee4a3282684581052390ff4144a613\n",
            "  Stored in directory: /root/.cache/pip/wheels/a6/85/8f/4f254dc1d3b7901c23004544f7214748607d8b0c2c02b3c868\n",
            "Successfully built owlready2\n",
            "Installing collected packages: owlready2\n",
            "Successfully installed owlready2-0.35\n"
          ]
        }
      ],
      "source": [
        "!pip install owlready2"
      ]
    },
    {
      "cell_type": "code",
      "source": [
        "import pandas as pd"
      ],
      "metadata": {
        "id": "QSTjSCofwKmd"
      },
      "execution_count": 2,
      "outputs": []
    },
    {
      "cell_type": "code",
      "source": [
        "from owlready2 import*\n",
        "import csv"
      ],
      "metadata": {
        "id": "rBGsQisGwLrQ"
      },
      "execution_count": 3,
      "outputs": []
    },
    {
      "cell_type": "code",
      "source": [
        "from google.colab import drive\n",
        "drive.mount('/content/drive', force_remount=True)"
      ],
      "metadata": {
        "colab": {
          "base_uri": "https://localhost:8080/"
        },
        "id": "ujiyOyKKwL2S",
        "outputId": "8c335674-2b07-40ca-e363-393ea6ac995d"
      },
      "execution_count": 9,
      "outputs": [
        {
          "output_type": "stream",
          "name": "stdout",
          "text": [
            "Mounted at /content/drive\n"
          ]
        }
      ]
    },
    {
      "cell_type": "markdown",
      "source": [
        "CREATING ONTOLOGY"
      ],
      "metadata": {
        "id": "DWrWs7SDxYIB"
      }
    },
    {
      "cell_type": "code",
      "source": [
        "onto = get_ontology(\"http://salahontology.com\")\n",
        "class Salah(Thing):\n",
        "  namespace = onto\n",
        "class Person(Thing):\n",
        "  namespace = onto\n",
        "\n",
        "class SalahName(Thing):\n",
        "  namespace = onto\n",
        "class SalahStatus(Thing):\n",
        "  namespace = onto\n",
        "class SalahUnit(Thing):\n",
        "  namespace = onto\n",
        "class SalahUnit_Type(Thing):\n",
        "  namespace = onto\n",
        "class Rakah(Thing):\n",
        "  namespace = onto\n",
        "class Timeliness(Thing):\n",
        "  namespace = onto\n",
        "class Postures(Thing):\n",
        "  namespace = onto\n",
        "class CompletedSalahs(Salah):\n",
        "  namesapce=onto\n",
        "class Timeliness(Thing):\n",
        "  namespace = onto\n",
        "class Obligatory(Salah):\n",
        "  namespace = onto\n",
        "class Non_Obligatory(Salah):\n",
        "  namespace = onto\n",
        "class ObligatoryUnit(SalahUnit):\n",
        "  namespace = onto\n",
        "class Non_ObligatoryUnit(SalahUnit):\n",
        "  namespace = onto\n",
        "#AllDisjoint([Salah,Person, SalahName, SalahUnit, SalahUnit_Type,Location])\n",
        "\n",
        "\n",
        "\n",
        "with onto:\n",
        "  class hasName(ObjectProperty):\n",
        "    domain=[Salah]\n",
        "    range=[SalahName]\n",
        "  class hasSalahUnit(Salah >> SalahUnit):\n",
        "    pass\n",
        "  class hasSalahUnit_Type(SalahUnit >> SalahUnit_Type):\n",
        "    pass\n",
        "  class Performs(Person >> Salah):\n",
        "    pass\n",
        "  class isPerformedBy(Salah >> Person):\n",
        "    inverse_property=Performs\n",
        "    pass\n",
        "  class Contains(Rakah >> Postures):\n",
        "    pass\n",
        "  class consistsOfRakah(SalahUnit >> Rakah):\n",
        "    pass\n",
        "  class hasEnsured(Salah >> Timeliness):\n",
        "    pass\n",
        "\n",
        "  \n",
        "  class hasTime(Salah >> str):\n",
        "    pass\n",
        "  class rakahCount(Salah >> int):\n",
        "    pass\n",
        "  class startAtTime(Postures >> str):\n",
        "    pass\n",
        "  class endAtTime(Postures >> str):\n",
        "    pass\n",
        "  class hasCompletionStatus(Salah >> str):\n",
        "    pass\n",
        "  #rule = Imp()\n",
        "  #rule.set_as_rule(\"\"\"Salah(?s) ^ hasName(?s, Zuhr) ^ rakahCount(?s, ?rc) ^ swrlb:equal(?rc, 4) -> CompletedSalahs(?s)\"\"\")"
      ],
      "metadata": {
        "id": "cKTswXpKwL8V"
      },
      "execution_count": 10,
      "outputs": []
    },
    {
      "cell_type": "code",
      "source": [
        "onto.save(file=\"SalahOntology.owl\")"
      ],
      "metadata": {
        "id": "iM8BJTokwL_O"
      },
      "execution_count": 11,
      "outputs": []
    },
    {
      "cell_type": "markdown",
      "source": [
        "CREATING INSTANCES FROM FILE"
      ],
      "metadata": {
        "id": "YLZGMSBPxb6M"
      }
    },
    {
      "cell_type": "code",
      "source": [
        "file1=pd.read_csv(\"/content/drive/MyDrive/KGLD/file1.csv\")\n",
        "\n",
        "for i, c in (file1.sample(n = 111 , random_state = 1).iterrows()):\n",
        "  #READING FROM FILE\n",
        "  sNo=c['person_id']\n",
        "  sNo = sNo.replace(' ', '_')\n",
        "  salah=c['Salah']\n",
        "  salahName=c['Salah_Name']\n",
        "  salahUnit=c['SalahUnit']\n",
        "  salahUnit_Type=c['SalahUnit_Type']\n",
        "  time=c['Time']\n",
        "  rakahN=c['Total_Rakah']\n",
        "  sTime=c['StartTime']\n",
        "  rakah=c['Rakah']\n",
        "  posture=c['Postures']\n",
        "\n",
        "  #SAVING INSCTANCES\n",
        "  sNo=Person(sNo)\n",
        "  salah=Salah(salah)\n",
        "  salahName=SalahName(salahName)\n",
        "  salahUnit=SalahUnit(salahUnit)\n",
        "  salahUnit_Type=SalahUnit_Type(salahUnit_Type)\n",
        "  rakah=Rakah(rakah)\n",
        "  posture=Postures(posture)\n",
        "\n",
        "\n",
        "  #SAVING OBJECT PROPERTIES\n",
        "  salah.isPerformedBy=[sNo]\n",
        "  salah.hasName=[salahName]\n",
        "  salah.hasSalahUnit=[salahUnit]\n",
        "  salahUnit.hasSalahUnit_Type=[salahUnit_Type]\n",
        "  rakah.Contains.append(posture)\n",
        "  salahUnit.consistsOfRakah.append(rakah)\n",
        "  \n",
        "\n",
        "\n",
        "  # SAVING DATA PROPERTIES \n",
        "  salah.hasTime=[time]\n",
        "  salah.rakahCount=[rakahN]\n",
        "  posture.startAtTime=[sTime]\n",
        "\n"
      ],
      "metadata": {
        "id": "bnku0FcdwfiH"
      },
      "execution_count": 12,
      "outputs": []
    },
    {
      "cell_type": "markdown",
      "source": [
        "sAVING THE FILE "
      ],
      "metadata": {
        "id": "67ZjJPx7xgPQ"
      }
    },
    {
      "cell_type": "code",
      "source": [
        "\n",
        "onto.save(file=\"SalahInstances.owl\")"
      ],
      "metadata": {
        "id": "b3-fsT_RxSvq"
      },
      "execution_count": 13,
      "outputs": []
    },
    {
      "cell_type": "code",
      "source": [
        ""
      ],
      "metadata": {
        "id": "MqzMOdbUxlAD"
      },
      "execution_count": null,
      "outputs": []
    }
  ]
}