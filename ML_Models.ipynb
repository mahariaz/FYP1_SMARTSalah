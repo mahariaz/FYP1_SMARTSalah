{
  "nbformat": 4,
  "nbformat_minor": 0,
  "metadata": {
    "colab": {
      "name": "ML_Models.ipynb",
      "provenance": []
    },
    "kernelspec": {
      "name": "python3",
      "display_name": "Python 3"
    },
    "language_info": {
      "name": "python"
    }
  },
  "cells": [
    {
      "cell_type": "code",
      "execution_count": 1,
      "metadata": {
        "colab": {
          "base_uri": "https://localhost:8080/"
        },
        "id": "UqlJl3Iyyjkt",
        "outputId": "aa38f43b-26d3-493b-c86c-6d0323d78df9"
      },
      "outputs": [
        {
          "output_type": "stream",
          "name": "stdout",
          "text": [
            "Mounted at /content/drive\n"
          ]
        }
      ],
      "source": [
        "from google.colab import drive\n",
        "drive.mount('/content/drive')"
      ]
    },
    {
      "cell_type": "code",
      "source": [
        "import csv\n",
        "import pandas as pd\n",
        "import numpy as np\n",
        "from sklearn.svm import SVC\n",
        "from sklearn.metrics import classification_report, confusion_matrix\n",
        "from sklearn.metrics import confusion_matrix\n",
        "from sklearn.model_selection import train_test_split\n",
        "from sklearn.tree import DecisionTreeClassifier # Import Decision Tree Classifier\n",
        "from sklearn.neighbors import KNeighborsClassifier # Import KNN Classifier\n",
        "from sklearn.ensemble import RandomForestClassifier #Import Random Forest Classifier\n",
        "from sklearn.naive_bayes import GaussianNB #Import Gaussian Naive Bayes model"
      ],
      "metadata": {
        "id": "ojAYckdZysCD"
      },
      "execution_count": 11,
      "outputs": []
    },
    {
      "cell_type": "code",
      "source": [
        "with open ('/content/drive/My Drive/FYP1/ML_Model_Files/Ml_Model_File.csv','r') as f:      #taggg2 file\n",
        "  passage=list(csv.reader(f,delimiter=','))\n",
        "f.close()\n",
        "X=np.array(passage)\n",
        "X=X[1:]\n",
        "np.random.shuffle(X)\n",
        "Y=X[:,3]\n",
        "Y1=X[:,3]\n",
        "X=X[:,0:3]\n",
        "X1=X[:,0:3]\n",
        "x_train,x_test,y_train,y_test=train_test_split(X,Y,test_size=0.2)"
      ],
      "metadata": {
        "id": "VR6zuUz4y3S_"
      },
      "execution_count": 3,
      "outputs": []
    },
    {
      "cell_type": "markdown",
      "source": [
        "***KNN***"
      ],
      "metadata": {
        "id": "RM9kIWa2y_sQ"
      }
    },
    {
      "cell_type": "code",
      "source": [
        "knn = KNeighborsClassifier(n_neighbors=8)\n",
        "#Train the model using the training sets\n",
        "knn.fit(x_train, y_train)\n",
        "\n",
        "#Predict the response for test dataset\n",
        "y_pred = knn.predict(x_test)\n",
        "\n",
        "#print(\"Predicted value of: \",x_test,\"is: \",y_pred)\n",
        "#Import scikit-learn metrics module for accuracy calculation\n",
        "from sklearn import metrics\n",
        "\n",
        "# Model Accuracy, how often is the classifier correct?\n",
        "print(\"Accuracy:\",metrics.accuracy_score(y_test, y_pred)*100)"
      ],
      "metadata": {
        "colab": {
          "base_uri": "https://localhost:8080/"
        },
        "id": "ER_eDhOBy79N",
        "outputId": "ddc133cc-a63b-4018-b74d-6c92ae221e42"
      },
      "execution_count": 5,
      "outputs": [
        {
          "output_type": "stream",
          "name": "stderr",
          "text": [
            "/usr/local/lib/python3.7/dist-packages/sklearn/utils/validation.py:968: FutureWarning: Arrays of bytes/strings is being converted to decimal numbers if dtype='numeric'. This behavior is deprecated in 0.24 and will be removed in 1.1 (renaming of 0.26). Please convert your data to numeric values explicitly instead.\n",
            "  estimator=estimator,\n",
            "/usr/local/lib/python3.7/dist-packages/sklearn/base.py:561: FutureWarning: Arrays of bytes/strings is being converted to decimal numbers if dtype='numeric'. This behavior is deprecated in 0.24 and will be removed in 1.1 (renaming of 0.26). Please convert your data to numeric values explicitly instead.\n",
            "  X = check_array(X, **check_params)\n"
          ]
        },
        {
          "output_type": "stream",
          "name": "stdout",
          "text": [
            "Accuracy: 78.23707213462953\n"
          ]
        }
      ]
    },
    {
      "cell_type": "markdown",
      "source": [
        "***Decision Tree Classifier***"
      ],
      "metadata": {
        "id": "YIWg-xe_zOao"
      }
    },
    {
      "cell_type": "code",
      "source": [
        "# Create Decision Tree classifer object\n",
        "clf = DecisionTreeClassifier(criterion=\"entropy\", max_depth=3)\n",
        "\n",
        "# Train Decision Tree Classifer\n",
        "clf = clf.fit(x_train,y_train)\n",
        "\n",
        "#Predict the response for test dataset\n",
        "y_pred = clf.predict(x_test)\n",
        "\n",
        "# Model Accuracy, how often is the classifier correct?\n",
        "print(\"Accuracy:\",metrics.accuracy_score(y_test, y_pred)*100)"
      ],
      "metadata": {
        "colab": {
          "base_uri": "https://localhost:8080/"
        },
        "id": "N4zf-_gmzFeH",
        "outputId": "48fd4f0a-ce5e-47c0-a4c3-fb44448e8113"
      },
      "execution_count": 7,
      "outputs": [
        {
          "output_type": "stream",
          "name": "stdout",
          "text": [
            "Accuracy: 59.09647904582959\n"
          ]
        }
      ]
    },
    {
      "cell_type": "markdown",
      "source": [
        "***Random Forest Classifier***"
      ],
      "metadata": {
        "id": "FDW-yqXYza5I"
      }
    },
    {
      "cell_type": "code",
      "source": [
        "#Create a Gaussian Classifier\n",
        "clf=RandomForestClassifier(n_estimators=100)\n",
        "\n",
        "#Train the model using the training sets y_pred=clf.predict(X_test)\n",
        "clf.fit(x_train,y_train)\n",
        "\n",
        "y_pred=clf.predict(x_test)\n",
        "\n",
        "# Model Accuracy, how often is the classifier correct?\n",
        "print(\"Accuracy:\",metrics.accuracy_score(y_test, y_pred)*100)"
      ],
      "metadata": {
        "colab": {
          "base_uri": "https://localhost:8080/"
        },
        "id": "9_vUNnCMzVKF",
        "outputId": "d041d7f1-ac84-4c00-ef77-57e44adeea34"
      },
      "execution_count": 8,
      "outputs": [
        {
          "output_type": "stream",
          "name": "stdout",
          "text": [
            "Accuracy: 77.61620782615799\n"
          ]
        }
      ]
    },
    {
      "cell_type": "markdown",
      "source": [
        "***Niave Bayes Classifier***"
      ],
      "metadata": {
        "id": "ulKBLGHkzn_z"
      }
    },
    {
      "cell_type": "code",
      "source": [
        "#Create a Gaussian Classifier\n",
        "gnb = GaussianNB()\n",
        "\n",
        "#Train the model using the training sets\n",
        "x_train=np.array(x_train).astype(np.float)\n",
        "gnb.fit(x_train, y_train)\n",
        "\n",
        "x_test=np.array(x_test).astype(np.float)\n",
        "#Predict the response for test dataset\n",
        "y_pred = gnb.predict(x_test)\n",
        "\n",
        "\n",
        "# Model Accuracy, how often is the classifier correct?\n",
        "print(\"Accuracy:\",metrics.accuracy_score(y_test, y_pred)*100)"
      ],
      "metadata": {
        "colab": {
          "base_uri": "https://localhost:8080/"
        },
        "id": "i2-rZXm0zi-8",
        "outputId": "1e603596-804a-46be-a351-3be8adfaf48e"
      },
      "execution_count": 10,
      "outputs": [
        {
          "output_type": "stream",
          "name": "stdout",
          "text": [
            "Accuracy: 60.019606241320155\n"
          ]
        }
      ]
    },
    {
      "cell_type": "markdown",
      "source": [
        "***MultiClass SVM***"
      ],
      "metadata": {
        "id": "TeO3f3PMz2cP"
      }
    },
    {
      "cell_type": "code",
      "source": [
        "svclassifier = SVC(kernel='rbf')\n",
        "svclassifier.fit(x_train, y_train)"
      ],
      "metadata": {
        "colab": {
          "base_uri": "https://localhost:8080/"
        },
        "id": "iH-L1A7tzuIu",
        "outputId": "394e02c2-d9ec-4a35-8f66-c2d7d2def17e"
      },
      "execution_count": 12,
      "outputs": [
        {
          "output_type": "execute_result",
          "data": {
            "text/plain": [
              "SVC()"
            ]
          },
          "metadata": {},
          "execution_count": 12
        }
      ]
    },
    {
      "cell_type": "code",
      "source": [
        "y_pred = svclassifier.predict(x_test)"
      ],
      "metadata": {
        "id": "f_0RqUyy0OPQ"
      },
      "execution_count": 13,
      "outputs": []
    },
    {
      "cell_type": "code",
      "source": [
        "from sklearn.metrics import classification_report, confusion_matrix\n",
        "print(confusion_matrix(y_test,y_pred))\n",
        "print(classification_report(y_test,y_pred))"
      ],
      "metadata": {
        "colab": {
          "base_uri": "https://localhost:8080/"
        },
        "id": "o1k6ayqw0oW1",
        "outputId": "3c92180b-9fcd-47da-c2bc-54ea37b5bab3"
      },
      "execution_count": 14,
      "outputs": [
        {
          "output_type": "stream",
          "name": "stdout",
          "text": [
            "[[  34    0   27   25    0    8    1   60    1  302]\n",
            " [   0    1   23   49    0    5    0   14    0   63]\n",
            " [   4    0 3635  117    0   84    0   27    1  388]\n",
            " [   0    0   87  543    0   62    2   42    0   85]\n",
            " [   0    0   14   13    1    4    0    1    0    5]\n",
            " [   4    0   36   93    0  600    0    8    0    0]\n",
            " [   8    0   77   45    0   13    4  241    0  563]\n",
            " [  13    1  138  111    0   31    6  282    0  673]\n",
            " [   6    0   47   36    0   13    1   12    3   35]\n",
            " [  15    0   80   85    0   11    3   84    2 3133]]\n",
            "              precision    recall  f1-score   support\n",
            "\n",
            "      Jalsa1       0.40      0.07      0.13       458\n",
            "      Jalsa2       0.50      0.01      0.01       155\n",
            "       Qayam       0.87      0.85      0.86      4256\n",
            "        Qoum       0.49      0.66      0.56       821\n",
            "          RY       1.00      0.03      0.05        38\n",
            "        Ruku       0.72      0.81      0.76       741\n",
            "      Sajda1       0.24      0.00      0.01       951\n",
            "      Sajda2       0.37      0.22      0.28      1255\n",
            "      Takbir       0.43      0.02      0.04       153\n",
            "    Tashahud       0.60      0.92      0.72      3413\n",
            "\n",
            "    accuracy                           0.67     12241\n",
            "   macro avg       0.56      0.36      0.34     12241\n",
            "weighted avg       0.63      0.67      0.62     12241\n",
            "\n"
          ]
        }
      ]
    },
    {
      "cell_type": "code",
      "source": [
        "cm = confusion_matrix(y_test,y_pred)\n",
        "accuracy = float(cm.diagonal().sum())/len(y_test)\n",
        "print(\"\\nAccuracy Of SVM For The Given Dataset : \", accuracy*100)"
      ],
      "metadata": {
        "colab": {
          "base_uri": "https://localhost:8080/"
        },
        "id": "Y_HbDfnO0wu4",
        "outputId": "3bf30c6c-a09c-4199-f654-e7556d901c7a"
      },
      "execution_count": 15,
      "outputs": [
        {
          "output_type": "stream",
          "name": "stdout",
          "text": [
            "\n",
            "Accuracy Of SVM For The Given Dataset :  67.28208479699371\n"
          ]
        }
      ]
    },
    {
      "cell_type": "markdown",
      "source": [
        "***One Class SVM Model***"
      ],
      "metadata": {
        "id": "1mR2fvHR0301"
      }
    },
    {
      "cell_type": "code",
      "source": [
        "# one-class svm for imbalanced binary classification\n",
        "from sklearn.datasets import make_classification\n",
        "from sklearn.model_selection import train_test_split\n",
        "from sklearn.metrics import f1_score\n",
        "from sklearn.metrics import accuracy_score\n",
        "from sklearn.metrics import confusion_matrix\n",
        "from sklearn.svm import OneClassSVM\n",
        "\n",
        "\n",
        "import csv\n",
        "import numpy as np\n",
        "with open ('/content/drive/My Drive/FYP1/OneClass_SVM_auto/uzairOut/Qayam.csv','r') as f:      #taggg2 file\n",
        "  data=list(csv.reader(f,delimiter=','))\n",
        "with open ('/content/drive/My Drive/FYP1/OneClass_SVM_auto/uzairOut/uzairQayam.csv','r') as f:      #taggg2 file\n",
        "  data1=list(csv.reader(f,delimiter=','))\n",
        "\n",
        "\n",
        "X=np.array(data)\n",
        "np.random.shuffle(X)\n",
        "amna=np.array(data1)\n",
        "np.random.shuffle(amna)\n",
        "\n",
        "trainX=X[:,0:3]\n",
        "trainy=X[:,3]\n",
        "\n",
        "testX=amna[:,0:3]\n",
        "testy=amna[:,3]\n",
        "\n",
        "trainy = trainy.astype(int)\n",
        "testy = testy.astype(int)\n",
        "\n",
        "# define outlier detection model\n",
        "model = OneClassSVM(kernel='rbf', gamma='scale', nu=0.01)\n",
        "# fit on majority class\n",
        "trainX = trainX[trainy==0]\n",
        "model.fit(trainX)\n",
        "# detect outliers in the test set\n",
        "yhat = model.predict(testX)\n",
        "# mark inliers 1, outliers -1\n",
        "testy[testy == 1] = -1\n",
        "testy[testy == 0] = 1\n",
        "# calculate score\n",
        "score = accuracy_score(testy, yhat)*100\n",
        "print(\"accuracy is: \", score)\n"
      ],
      "metadata": {
        "colab": {
          "base_uri": "https://localhost:8080/"
        },
        "id": "4V-i7m6x01ZU",
        "outputId": "a1cb8180-a531-43c4-daf6-1b83ffae1c3a"
      },
      "execution_count": 17,
      "outputs": [
        {
          "output_type": "stream",
          "name": "stdout",
          "text": [
            "accuracy is:  97.6318622174381\n"
          ]
        }
      ]
    },
    {
      "cell_type": "code",
      "source": [
        ""
      ],
      "metadata": {
        "id": "O8zJs0XG1Ezh"
      },
      "execution_count": null,
      "outputs": []
    }
  ]
}