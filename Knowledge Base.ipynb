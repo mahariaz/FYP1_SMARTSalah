{
  "nbformat": 4,
  "nbformat_minor": 0,
  "metadata": {
    "colab": {
      "name": "SALAHONTO.ipynb",
      "provenance": [],
      "collapsed_sections": []
    },
    "kernelspec": {
      "name": "python3",
      "display_name": "Python 3"
    },
    "language_info": {
      "name": "python"
    }
  },
  "cells": [
    {
      "cell_type": "code",
      "execution_count": null,
      "metadata": {
        "colab": {
          "base_uri": "https://localhost:8080/"
        },
        "id": "4Xyo0eCRDXOT",
        "outputId": "821c9c32-02da-4e82-861b-8ad44eb1cc58"
      },
      "outputs": [
        {
          "output_type": "stream",
          "name": "stdout",
          "text": [
            "Looking in indexes: https://pypi.org/simple, https://us-python.pkg.dev/colab-wheels/public/simple/\n",
            "Collecting owlready2\n",
            "  Downloading Owlready2-0.38.tar.gz (25.4 MB)\n",
            "\u001b[K     |████████████████████████████████| 25.4 MB 63.9 MB/s \n",
            "\u001b[?25hBuilding wheels for collected packages: owlready2\n",
            "  Building wheel for owlready2 (setup.py) ... \u001b[?25l\u001b[?25hdone\n",
            "  Created wheel for owlready2: filename=Owlready2-0.38-cp37-cp37m-linux_x86_64.whl size=22127084 sha256=f06ba052a86a849214368164df4e566b799cc6960b2027054b66c209a2f0df40\n",
            "  Stored in directory: /root/.cache/pip/wheels/ee/48/58/3ea20d69efcb97a26048fbfcce9332412077df80d4ae52365b\n",
            "Successfully built owlready2\n",
            "Installing collected packages: owlready2\n",
            "Successfully installed owlready2-0.38\n"
          ]
        }
      ],
      "source": [
        "!pip install owlready2\n"
      ]
    },
    {
      "cell_type": "code",
      "source": [
        "import pandas as pd"
      ],
      "metadata": {
        "id": "81WQqtiDDeZU"
      },
      "execution_count": null,
      "outputs": []
    },
    {
      "cell_type": "code",
      "source": [
        "from owlready2 import*\n",
        "import csv"
      ],
      "metadata": {
        "id": "pjjJCA6bE32Y"
      },
      "execution_count": null,
      "outputs": []
    },
    {
      "cell_type": "code",
      "source": [
        "\n",
        "from google.colab import drive\n",
        "drive.mount('/content/drive', force_remount=True)"
      ],
      "metadata": {
        "colab": {
          "base_uri": "https://localhost:8080/"
        },
        "id": "RGmC_3AcE51z",
        "outputId": "21ef1ef2-317d-4a6b-d3b9-bcdca8b43d07"
      },
      "execution_count": null,
      "outputs": [
        {
          "output_type": "stream",
          "name": "stdout",
          "text": [
            "Mounted at /content/drive\n"
          ]
        }
      ]
    },
    {
      "cell_type": "markdown",
      "source": [
        "CREATING THE ONTOLOGY"
      ],
      "metadata": {
        "id": "CdBpwXSYqUfM"
      }
    },
    {
      "cell_type": "code",
      "source": [
        "onto = get_ontology(\"http://salahontology.com\")\n",
        "\n",
        "#creating Classes \n",
        "\n",
        "class Salah(Thing):\n",
        "  namespace = onto\n",
        "class Person(Thing):\n",
        "  namespace = onto\n",
        "class SalahName(Thing):\n",
        "  namespace = onto\n",
        "class SalahStatus(Thing):\n",
        "  namespace = onto\n",
        "class SalahUnit(Thing):\n",
        "  namespace = onto\n",
        "class SalahUnit_Type(Thing):\n",
        "  namespace = onto\n",
        "class Rakah(Thing):\n",
        "  namespace = onto\n",
        "class Timeliness(Thing):\n",
        "  namespace = onto\n",
        "class Postures(Thing):\n",
        "  namespace = onto\n",
        "  '''\n",
        "class Qayam(Postures):\n",
        "  namespace = onto\n",
        "class Ruku(Postures):\n",
        "  namespace = onto\n",
        "class Sajda(Postures):\n",
        "  namespace = onto\n",
        "class Jalsa(Postures):\n",
        "  namespace = onto\n",
        "class Qoum(Postures):\n",
        "  namespace = onto\n",
        "class Takbir(Postures):\n",
        "  namespace = onto \n",
        "  '''\n",
        "class CompletedSalahs(Salah):\n",
        "  namesapce=onto\n",
        "class Timeliness(Thing):\n",
        "  namespace = onto\n",
        "class Non_Obligatory(Salah):\n",
        "  namespace = onto\n",
        "\n",
        "\n",
        "'''\n",
        "class Zuhr(SalahName):\n",
        "  namespace= onto\n",
        "\n",
        "class Asr(SalahName):\n",
        "  namespace= onto\n",
        "class Maghreb(SalahName):\n",
        "  namespace= onto\n",
        "class Isha(SalahName):\n",
        "  namespace= onto\n",
        "\n",
        "class Farz(SalahUnit_Type):\n",
        "  namespace=onto\n",
        "class Sunnah(SalahUnit_Type):\n",
        "  namespace=onto\n",
        "class Nafal(SalahUnit_Type):\n",
        "  namespace=onto\n",
        "'''\n",
        "#AllDisjoint([Salah,Person, SalahName, SalahUnit, SalahUnit_Type,Location])\n",
        "\n",
        "\n",
        "# CREATING OBJECT PROPERTIES\n",
        "with onto:\n",
        "  class hasName(Salah >>SalahName):\n",
        "    pass\n",
        "    #class_property_type = [\"some\"]\n",
        "  \n",
        "  class hasSalahUnit(Salah >> SalahUnit):\n",
        "    pass\n",
        "  class hasSalahUnit_Type(SalahUnit >> SalahUnit_Type):\n",
        "    pass\n",
        "    #class_property_type = [\"some\"]\n",
        "  class Performs(Person >> Salah):\n",
        "    pass\n",
        "  class isPerformedBy(Salah >> Person):\n",
        "    inverse_property=Performs\n",
        "    pass\n",
        "  class Contains(Rakah >> Postures):\n",
        "    pass\n",
        "  class consistsOfRakah(SalahUnit >> Rakah):\n",
        "    pass\n",
        "  class hasEnsured(Salah >> Timeliness):\n",
        "    pass\n",
        "  class followedBy(Postures >> Postures):\n",
        "    pass\n",
        "  \n",
        "\n",
        "  #CREATING DATA PROPERTIES\n",
        "  class hasTime(Salah >> str):\n",
        "    pass\n",
        "  class rakahCount(Salah >> int):\n",
        "    pass\n",
        "  class hasUnitRakahCount(SalahUnit>>int):\n",
        "    pass\n",
        "  class startAtTime(Postures >> str):\n",
        "    pass\n",
        "  class startTime(Salah >>str):\n",
        "    pass\n",
        "  class endTime(Salah>>str):\n",
        "    pass\n",
        "  class endAtTime(Postures >> str):\n",
        "    pass\n",
        "  class hasCompletionStatus(Salah >> str):\n",
        "    pass\n",
        "  class hasRakahStatus(Rakah>>str):\n",
        "    pass\n",
        "  class hasSalahUnitStatus(SalahUnit>>str):\n",
        "    pass\n",
        "  class hasPostureName(Postures>>str):\n",
        "    pass\n",
        "  class hasRakahNumber(Rakah>>int):\n",
        "    pass\n",
        "  #rule = Imp()\n",
        "  #rule.set_as_rule(\"\"\"Salah(?s) ^ hasName(?s, Zuhr) ^ rakahCount(?s, ?rc) ^ swrlb:equal(?rc, 4) -> CompletedSalahs(?s)\"\"\")\n",
        "  \n",
        "\n",
        "\n",
        "  #EQUIVALENT CLASSES\n",
        "  class Obligatory(Salah):\n",
        "    defined_class = True\n",
        "    #hasName = [Asr, Maghreb, Isha, Zuhr, Fajr]\n",
        "  class ObligatoryUnit(SalahUnit):\n",
        "    defined_class = True\n",
        "    #hasName = [Farz]\n",
        "  class Non_ObligatoryUnit(SalahUnit):\n",
        "    defined_class = True\n",
        "    #hasName = [Sunnah,Nafal]\n",
        "  "
      ],
      "metadata": {
        "id": "pKv0ZV1iGtfB"
      },
      "execution_count": null,
      "outputs": []
    },
    {
      "cell_type": "code",
      "source": [
        "onto.save(file=\"SalahOntology.owl\")\n",
        "print(onto.classes())"
      ],
      "metadata": {
        "id": "aJFLDRpUqog2",
        "colab": {
          "base_uri": "https://localhost:8080/"
        },
        "outputId": "24b5f79a-f302-4c3d-c001-52dcaf1bbe7b"
      },
      "execution_count": null,
      "outputs": [
        {
          "output_type": "stream",
          "name": "stdout",
          "text": [
            "<generator object _GraphManager.classes at 0x7f12bcb66850>\n"
          ]
        }
      ]
    },
    {
      "cell_type": "markdown",
      "source": [
        "INSERTING INSTANCES IN ONTOLOGY"
      ],
      "metadata": {
        "id": "JwPvTlwKWpD1"
      }
    },
    {
      "cell_type": "code",
      "source": [
        "#with open(\"/content/drive/MyDrive/KGLD/data.csv\") as f:\n",
        "\n",
        "\n",
        "j=1\n",
        "posture2=''\n",
        "\n",
        "with open('/content/drive/MyDrive/KGLD/Book1.csv', newline='') as csvfile:\n",
        "  reader = csv.DictReader(csvfile)\n",
        "  for c in reader:\n",
        "    #sNo=c['person_id']\n",
        "    #sNo = sNo.replace(' ', '_')\n",
        "    salah=c['Salah']\n",
        "    salahName=c['Salah_Name']\n",
        "    salahUnit=c['SalahUnit']\n",
        "    salahUnit_Type=c['SalahUnit_Type']\n",
        "    time=c['Time']\n",
        "    etime=c['Etime']\n",
        "    rakahN=int(c['Total_Rakah'])\n",
        "    sTime=c['StartTime']\n",
        "    rakah=c['Rakah']\n",
        "    posture=c['Postures']\n",
        "    PName=c['PosturesName']\n",
        "    rakahNumber=int(c['RakahNumber'])\n",
        "    unitRakah=int(c['UnitRakah'])\n",
        "  \n",
        "\n",
        "    #SAVING INSCTANCES\n",
        "   # sNo=Person(sNo)\n",
        "    salah=Salah(salah)\n",
        "    salahName=SalahName(salahName)\n",
        "    salahUnit=SalahUnit(salahUnit)\n",
        "    salahUnit_Type=SalahUnit_Type(salahUnit_Type)\n",
        "    rakah=Rakah(rakah)\n",
        "    posture=Postures(posture)\n",
        "    posture2=Postures(posture2)\n",
        "    if j>1:\n",
        "      posture2.followedBy=[posture]\n",
        "\n",
        "\n",
        "    #SAVING OBJECT PROPERTIES\n",
        "    #salah.isPerformedBy=[sNo]\n",
        "    salah.hasName=[salahName]\n",
        "    salah.hasSalahUnit=[salahUnit]\n",
        "    salahUnit.hasSalahUnit_Type=[salahUnit_Type]\n",
        "    rakah.Contains.append(posture)\n",
        "    salahUnit.consistsOfRakah.append(rakah)\n",
        "\n",
        "  \n",
        "\n",
        "   # SAVING DATA PROPERTIES \n",
        "    salah.hasTime=[time]\n",
        "    salah.startTime=[time]\n",
        "    salah.endTime=[etime]\n",
        "    salah.rakahCount=[rakahN]\n",
        "    posture.startAtTime=[sTime]\n",
        "    rakah.hasRakahNumber=[rakahNumber]\n",
        "    salahUnit.hasUnitRakahCount=[unitRakah]\n",
        "    posture.hasPostureName=[PName]\n",
        "    j=j+1\n",
        "    posture2=c['Postures']\n",
        "\n",
        "\n"
      ],
      "metadata": {
        "id": "685GGRggm5Aj"
      },
      "execution_count": null,
      "outputs": []
    },
    {
      "cell_type": "markdown",
      "source": [
        "EQUIVALENT CLASSES"
      ],
      "metadata": {
        "id": "SPxISvJtlVv5"
      }
    },
    {
      "cell_type": "code",
      "source": [
        "'''\n",
        "class Obligatory(Salah):\n",
        "  namespace = onto\n",
        "  defined_class = True\n",
        "  hasName=[Asr,Zuhr,Maghreb,Isha]\n",
        "\n",
        "  #equivalent_to = [Salah & hasName.value('Asr') or Salah & hasName.value('Zuhr')or Salah & hasName.value('Maghreb')or Salah & hasName.value('Isha')]\n",
        "'''\n",
        "\n"
      ],
      "metadata": {
        "id": "kM0hfVyXlX3y"
      },
      "execution_count": null,
      "outputs": []
    },
    {
      "cell_type": "markdown",
      "source": [
        "APPLYING SRWL RULES TO ONTOLOGY"
      ],
      "metadata": {
        "id": "_BscwefDFrZj"
      }
    },
    {
      "cell_type": "code",
      "source": [
        "with onto:\n",
        "  ObgAsr=Imp()\n",
        "  ObgAsr.set_as_rule(\"Salah(?s),hasName(?s, Asr)-> Obligatory(?s)\")\n",
        "\n",
        "  ObgZuhr=Imp()\n",
        "  ObgZuhr.set_as_rule(\"Salah(?s),hasName(?s, Zuhr)-> Obligatory(?s)\")\n",
        "\n",
        "  ObgMaghreb=Imp()\n",
        "  ObgMaghreb.set_as_rule(\"Salah(?s),hasName(?s, Maghrib)-> Obligatory(?s)\")\n",
        "\n",
        "  ObgIsha=Imp()\n",
        "  #ObgIsha.set_as_rule(\"Salah(?s),hasName(?s, Isha)-> Obligatory(?s)\")\n",
        "\n",
        "  obligatoryFajr=Imp()\n",
        "  obligatoryFajr.set_as_rule(\"Salah(?s),hasName(?s, Fajar)-> Obligatory(?s)\")\n",
        "\n",
        "  '''\n",
        "  obligatoryFajr=Imp()\n",
        "  obligatoryFajr.set_as_rule(\"Salah(?s),hasName(?s, Fajar)-> Obligatory(?s)\")\n",
        "  '''\n",
        "  nonObgS=Imp()\n",
        "  nonObgS.set_as_rule(\"SalahUnit(?s),hasSalahUnit_Type(?s, Sunnah)-> Non_ObligatoryUnit(?s)\")\n",
        "\n",
        "  nonObgN=Imp()\n",
        "  #nonObgN.set_as_rule(\"SalahUnit(?s),hasSalahUnit_Type(?s, Nafal)-> Non_ObligatoryUnit(?s)\")\n",
        "\n",
        "  ObgF=Imp()\n",
        "  ObgF.set_as_rule(\"SalahUnit(?s),hasSalahUnit_Type(?s, Farz)-> ObligatoryUnit(?s)\")\n",
        "\n",
        "  rakah1=Imp()\n",
        "  rakah1.set_as_rule(\"Rakah(?r), Contains(?r, ?p),hasRakahNumber(?r, ?n),hasPostureName(?p, 'Qayam'),followedBy(?p, ?p1),hasPostureName(?p1, 'Ruku'),followedBy(?p1, ?p2),hasPostureName(?p2, 'Qoum'),followedBy(?p2, ?p3),hasPostureName(?p3, 'Sajda1'),followedBy(?p3, ?p4),hasPostureName(?p4, 'Jalsa1'),followedBy(?p4, ?p5),hasPostureName(?p5, 'Sajda2'),equal(?n, 1) -> hasRakahStatus(?r, 'Completed')\")\n",
        "  \n",
        "  \n",
        "  rakah2=Imp()\n",
        "  rakah2.set_as_rule(\"Rakah(?r),Contains(?r, ?p),hasRakahNumber(?r, ?n),hasPostureName(?p, 'Qayam'),followedBy(?p, ?p1),hasPostureName(?p1, 'Ruku'),followedBy(?p1, ?p2),hasPostureName(?p2, 'Qoum'),followedBy(?p2, ?p3),hasPostureName(?p3,'Sajda1'),followedBy(?p3, ?p4),hasPostureName(?p4, 'Jalsa1'),followedBy(?p4, ?p5),hasPostureName(?p5, 'Sajda2'),followedBy(?p5, ?p6),hasPostureName(?p6, 'Tashahud'),equal(?n, 2) -> hasRakahStatus(?r,'Completed')\")\n",
        "\n",
        "\n",
        "  rakah3=Imp()\n",
        "  rakah3.set_as_rule(\"Rakah(?r),Contains(?r, ?p),hasRakahNumber(?r, ?n),hasPostureName(?p, 'Qayam'),followedBy(?p, ?p1),hasPostureName(?p1, 'Ruku'),followedBy(?p1, ?p2),hasPostureName(?p2, 'Qoum'),followedBy(?p2, ?p3),hasPostureName(?p3, 'Sajda1'),followedBy(?p3, ?p4),hasPostureName(?p4, 'Jalsa1'),followedBy(?p4, ?p5),hasPostureName(?p5, 'Sajda2'),equal(?n, 3) -> hasRakahStatus(?r,'Completed')\")\n",
        "\n",
        "  rakah4=Imp()\n",
        "  rakah4.set_as_rule(\"Rakah(?r),Contains(?r, ?p),hasRakahNumber(?r, ?n),hasPostureName(?p, 'Qayam'),followedBy(?p, ?p1),hasPostureName(?p1, 'Ruku'),followedBy(?p1, ?p2),hasPostureName(?p2, 'Qoum'),followedBy(?p2, ?p3),hasPostureName(?p3, 'Sajda1'),followedBy(?p3, ?p4),hasPostureName(?p4, 'Jalsa1'),followedBy(?p4, ?p5),hasPostureName(?p5, 'Sajda2'),equal(?n, 4) -> hasRakahStatus(?r,'Completed')\")\n",
        "\n",
        "\n",
        "  unitComp2=Imp()\n",
        "  unitComp2.set_as_rule(\"SalahUnit(?su),hasUnitRakahCount(?su, 2),consistsOfRakah(?su, ?r1),hasRakahNumber(?r1, 1),hasRakahStatus(?r1, 'Completed'),consistsOfRakah(?su, ?r2),hasRakahNumber(?r2, 2),hasRakahStatus(?r2, 'Completed') -> hasSalahUnitStatus(?su, 'Completed')\")\n",
        "\n",
        "\n",
        "  unitComp3=Imp()\n",
        "  unitComp3.set_as_rule(\"SalahUnit(?su),hasUnitRakahCount(?su, 3) ,consistsOfRakah(?su, ?r1),hasRakahNumber(?r1, 1) , hasRakahStatus(?r1, 'Completed') ,consistsOfRakah(?su, ?r2),hasRakahNumber(?r2, 2),hasRakahStatus(?r2, 'Completed'), consistsOfRakah(?su, ?r3),hasRakahNumber(?r3, 3) ,hasRakahStatus(?r3, 'Completed') -> hasSalahUnitStatus(?su, 'Completed')\")\n",
        "\n",
        "\n",
        "  unitComp4=Imp()\n",
        "  unitComp4.set_as_rule(\"SalahUnit(?su),hasUnitRakahCount(?su, 4) ,consistsOfRakah(?su, ?r1),hasRakahNumber(?r1, 1) , hasRakahStatus(?r1, 'Completed') ,consistsOfRakah(?su, ?r2),hasRakahNumber(?r2, 2),hasRakahStatus(?r2, 'Completed'), consistsOfRakah(?su, ?r3),hasRakahNumber(?r3, 3) ,hasRakahStatus(?r3, 'Completed'),consistsOfRakah(?su, ?r4),hasRakahNumber(?r4, 4) , hasRakahStatus(?r4, 'Completed') -> hasSalahUnitStatus(?su, 'Completed')\")\n",
        "\n",
        "\n",
        "  compSalah=Imp()\n",
        "  compSalah.set_as_rule(\"Salah(?s) ,hasSalahUnit(?s, ?u),hasSalahUnitStatus(?u, 'Completed') ,hasSalahUnit_Type(?u, Farz) -> CompletedSalahs(?s)\")\n",
        "\n",
        "  compStatus=Imp()\n",
        "  compStatus.set_as_rule(\"Salah(?s) ,hasSalahUnit(?s, ?u),hasSalahUnitStatus(?u, 'Completed') ,hasSalahUnit_Type(?u, Farz) -> hasCompletionStatus(?s,'Completed')\")\n",
        "  "
      ],
      "metadata": {
        "id": "94BbzFBvFvxs"
      },
      "execution_count": null,
      "outputs": []
    },
    {
      "cell_type": "markdown",
      "source": [
        "Reasoner "
      ],
      "metadata": {
        "id": "QGjSh9KbgYm5"
      }
    },
    {
      "cell_type": "code",
      "source": [
        "sync_reasoner_pellet(infer_property_values = True, infer_data_property_values = True)"
      ],
      "metadata": {
        "id": "bFFcG1mKgalt",
        "colab": {
          "base_uri": "https://localhost:8080/"
        },
        "outputId": "c3912c8d-b870-48cb-a8c5-f0bbbd115762"
      },
      "execution_count": null,
      "outputs": [
        {
          "output_type": "stream",
          "name": "stderr",
          "text": [
            "* Owlready2 * Running Pellet...\n",
            "    java -Xmx2000M -cp /usr/local/lib/python3.7/dist-packages/owlready2/pellet/commons-codec-1.6.jar:/usr/local/lib/python3.7/dist-packages/owlready2/pellet/jena-arq-2.10.0.jar:/usr/local/lib/python3.7/dist-packages/owlready2/pellet/log4j-1.2.16.jar:/usr/local/lib/python3.7/dist-packages/owlready2/pellet/slf4j-log4j12-1.6.4.jar:/usr/local/lib/python3.7/dist-packages/owlready2/pellet/httpclient-4.2.3.jar:/usr/local/lib/python3.7/dist-packages/owlready2/pellet/jena-iri-0.9.5.jar:/usr/local/lib/python3.7/dist-packages/owlready2/pellet/antlr-runtime-3.2.jar:/usr/local/lib/python3.7/dist-packages/owlready2/pellet/jcl-over-slf4j-1.6.4.jar:/usr/local/lib/python3.7/dist-packages/owlready2/pellet/httpcore-4.2.2.jar:/usr/local/lib/python3.7/dist-packages/owlready2/pellet/jena-tdb-0.10.0.jar:/usr/local/lib/python3.7/dist-packages/owlready2/pellet/aterm-java-1.6.jar:/usr/local/lib/python3.7/dist-packages/owlready2/pellet/xercesImpl-2.10.0.jar:/usr/local/lib/python3.7/dist-packages/owlready2/pellet/owlapi-distribution-3.4.3-bin.jar:/usr/local/lib/python3.7/dist-packages/owlready2/pellet/jena-core-2.10.0.jar:/usr/local/lib/python3.7/dist-packages/owlready2/pellet/pellet-2.3.1.jar:/usr/local/lib/python3.7/dist-packages/owlready2/pellet/antlr-3.2.jar:/usr/local/lib/python3.7/dist-packages/owlready2/pellet/jgrapht-jdk1.5.jar:/usr/local/lib/python3.7/dist-packages/owlready2/pellet/xml-apis-1.4.01.jar:/usr/local/lib/python3.7/dist-packages/owlready2/pellet/slf4j-api-1.6.4.jar pellet.Pellet realize --loader Jena --input-format N-Triples --infer-prop-values --infer-data-prop-values --ignore-imports /tmp/tmprht8ljry\n",
            "* Owlready2 * Pellet took 2.1493704319000244 seconds\n",
            "* Owlready * (NB: only changes on entities loaded in Python are shown, other changes are done but not listed)\n"
          ]
        }
      ]
    },
    {
      "cell_type": "code",
      "source": [
        "# sync_reasoner()\n",
        "\n",
        "\n",
        "# Rakah.RakahS()\n",
        "\n",
        "\n",
        "# if Nothing in Rakah.RakahS():\n",
        "#   print(\"Rakah Incomplete\")\n",
        "\n",
        "\n",
        "# a=\"John\"\n",
        "# if a in Non_ObligatoryUnit:\n",
        "#   print(\"Some non obligatory unit   \", a)\n",
        "\n",
        "for i in Rakah.instances():\n",
        "  print(i,\"  \",i.hasRakahStatus)\n",
        "\n",
        "\n",
        "for j in Salah.instances():\n",
        "  print(j,\"  \",j.hasCompletionStatus)\n",
        "\n",
        "\n"
      ],
      "metadata": {
        "colab": {
          "base_uri": "https://localhost:8080/"
        },
        "id": "PGpe_GxwBDzv",
        "outputId": "0ba3cd9e-7d31-4662-a2a5-c9c6a890da40"
      },
      "execution_count": null,
      "outputs": [
        {
          "output_type": "stream",
          "name": "stdout",
          "text": [
            "salahontology.com.SN_rakah1    []\n",
            "salahontology.com.SN_rakah2    []\n",
            "salahontology.com.FZ_rakah1    []\n",
            "salahontology.com.FZ_rakah2    []\n",
            "salahontology.com.FZ_rakah3    []\n",
            "salahontology.com.SN3_rakah1    ['Completed']\n",
            "salahontology.com.SN3_rakah3    ['Completed']\n",
            "salahontology.com.SN3_rakah4    ['Completed']\n",
            "salahontology.com.FZ3_rakah1    ['Completed']\n",
            "salahontology.com.FZ3_rakah2    []\n",
            "salahontology.com.S1    []\n",
            "salahontology.com.S7    []\n",
            "salahontology.com.S6    []\n",
            "salahontology.com.S1    []\n",
            "salahontology.com.S7    []\n",
            "salahontology.com.S6    []\n"
          ]
        }
      ]
    },
    {
      "cell_type": "code",
      "source": [
        "\n",
        "onto.save(file=\"NewScript.owl\")"
      ],
      "metadata": {
        "id": "o860Cl_qW-F2"
      },
      "execution_count": null,
      "outputs": []
    },
    {
      "cell_type": "code",
      "source": [
        "print(Salah.iri)\n",
        "print(Salah.subclasses())\n",
        "list(Salah.subclasses())\n",
        "list(onto.object_properties())\n",
        "print(Obligatory.iri)"
      ],
      "metadata": {
        "id": "DvN-invTITqQ"
      },
      "execution_count": null,
      "outputs": []
    },
    {
      "cell_type": "code",
      "source": [
        "import requests\n",
        "requests.get(\"https://www.google.com/\")"
      ],
      "metadata": {
        "colab": {
          "base_uri": "https://localhost:8080/"
        },
        "id": "1RYWES6iYIph",
        "outputId": "11f4030e-db75-4681-ee8a-95e5a7872d1d"
      },
      "execution_count": null,
      "outputs": [
        {
          "output_type": "execute_result",
          "data": {
            "text/plain": [
              "<Response [200]>"
            ]
          },
          "metadata": {},
          "execution_count": 8
        }
      ]
    },
    {
      "cell_type": "code",
      "source": [
        "import requests\n",
        "r = requests.post('http://ptsv2.com/t/l9nm6-1646251833/post', json={\"name\": \"mahnoor\"})\n",
        "r.status_code\n",
        "\n"
      ],
      "metadata": {
        "colab": {
          "base_uri": "https://localhost:8080/",
          "height": 336
        },
        "id": "iDXOwlodYIwk",
        "outputId": "4058b701-916f-4ba2-eafd-8149140e6545"
      },
      "execution_count": null,
      "outputs": [
        {
          "output_type": "error",
          "ename": "JSONDecodeError",
          "evalue": "ignored",
          "traceback": [
            "\u001b[0;31m---------------------------------------------------------------------------\u001b[0m",
            "\u001b[0;31mJSONDecodeError\u001b[0m                           Traceback (most recent call last)",
            "\u001b[0;32m<ipython-input-15-4fa56843ca28>\u001b[0m in \u001b[0;36m<module>\u001b[0;34m()\u001b[0m\n\u001b[1;32m      2\u001b[0m \u001b[0mr\u001b[0m \u001b[0;34m=\u001b[0m \u001b[0mrequests\u001b[0m\u001b[0;34m.\u001b[0m\u001b[0mpost\u001b[0m\u001b[0;34m(\u001b[0m\u001b[0;34m'http://ptsv2.com/t/l9nm6-1646251833/post'\u001b[0m\u001b[0;34m,\u001b[0m \u001b[0mjson\u001b[0m\u001b[0;34m=\u001b[0m\u001b[0;34m{\u001b[0m\u001b[0;34m\"name\"\u001b[0m\u001b[0;34m:\u001b[0m \u001b[0;34m\"mahnoor\"\u001b[0m\u001b[0;34m}\u001b[0m\u001b[0;34m)\u001b[0m\u001b[0;34m\u001b[0m\u001b[0;34m\u001b[0m\u001b[0m\n\u001b[1;32m      3\u001b[0m \u001b[0mr\u001b[0m\u001b[0;34m.\u001b[0m\u001b[0mstatus_code\u001b[0m\u001b[0;34m\u001b[0m\u001b[0;34m\u001b[0m\u001b[0m\n\u001b[0;32m----> 4\u001b[0;31m \u001b[0mr\u001b[0m\u001b[0;34m.\u001b[0m\u001b[0mjson\u001b[0m\u001b[0;34m(\u001b[0m\u001b[0;34m)\u001b[0m\u001b[0;34m\u001b[0m\u001b[0;34m\u001b[0m\u001b[0m\n\u001b[0m",
            "\u001b[0;32m/usr/local/lib/python3.7/dist-packages/requests/models.py\u001b[0m in \u001b[0;36mjson\u001b[0;34m(self, **kwargs)\u001b[0m\n\u001b[1;32m    896\u001b[0m                     \u001b[0;31m# used.\u001b[0m\u001b[0;34m\u001b[0m\u001b[0;34m\u001b[0m\u001b[0;34m\u001b[0m\u001b[0m\n\u001b[1;32m    897\u001b[0m                     \u001b[0;32mpass\u001b[0m\u001b[0;34m\u001b[0m\u001b[0;34m\u001b[0m\u001b[0m\n\u001b[0;32m--> 898\u001b[0;31m         \u001b[0;32mreturn\u001b[0m \u001b[0mcomplexjson\u001b[0m\u001b[0;34m.\u001b[0m\u001b[0mloads\u001b[0m\u001b[0;34m(\u001b[0m\u001b[0mself\u001b[0m\u001b[0;34m.\u001b[0m\u001b[0mtext\u001b[0m\u001b[0;34m,\u001b[0m \u001b[0;34m**\u001b[0m\u001b[0mkwargs\u001b[0m\u001b[0;34m)\u001b[0m\u001b[0;34m\u001b[0m\u001b[0;34m\u001b[0m\u001b[0m\n\u001b[0m\u001b[1;32m    899\u001b[0m \u001b[0;34m\u001b[0m\u001b[0m\n\u001b[1;32m    900\u001b[0m     \u001b[0;34m@\u001b[0m\u001b[0mproperty\u001b[0m\u001b[0;34m\u001b[0m\u001b[0;34m\u001b[0m\u001b[0m\n",
            "\u001b[0;32m/usr/lib/python3.7/json/__init__.py\u001b[0m in \u001b[0;36mloads\u001b[0;34m(s, encoding, cls, object_hook, parse_float, parse_int, parse_constant, object_pairs_hook, **kw)\u001b[0m\n\u001b[1;32m    346\u001b[0m             \u001b[0mparse_int\u001b[0m \u001b[0;32mis\u001b[0m \u001b[0;32mNone\u001b[0m \u001b[0;32mand\u001b[0m \u001b[0mparse_float\u001b[0m \u001b[0;32mis\u001b[0m \u001b[0;32mNone\u001b[0m \u001b[0;32mand\u001b[0m\u001b[0;34m\u001b[0m\u001b[0;34m\u001b[0m\u001b[0m\n\u001b[1;32m    347\u001b[0m             parse_constant is None and object_pairs_hook is None and not kw):\n\u001b[0;32m--> 348\u001b[0;31m         \u001b[0;32mreturn\u001b[0m \u001b[0m_default_decoder\u001b[0m\u001b[0;34m.\u001b[0m\u001b[0mdecode\u001b[0m\u001b[0;34m(\u001b[0m\u001b[0ms\u001b[0m\u001b[0;34m)\u001b[0m\u001b[0;34m\u001b[0m\u001b[0;34m\u001b[0m\u001b[0m\n\u001b[0m\u001b[1;32m    349\u001b[0m     \u001b[0;32mif\u001b[0m \u001b[0mcls\u001b[0m \u001b[0;32mis\u001b[0m \u001b[0;32mNone\u001b[0m\u001b[0;34m:\u001b[0m\u001b[0;34m\u001b[0m\u001b[0;34m\u001b[0m\u001b[0m\n\u001b[1;32m    350\u001b[0m         \u001b[0mcls\u001b[0m \u001b[0;34m=\u001b[0m \u001b[0mJSONDecoder\u001b[0m\u001b[0;34m\u001b[0m\u001b[0;34m\u001b[0m\u001b[0m\n",
            "\u001b[0;32m/usr/lib/python3.7/json/decoder.py\u001b[0m in \u001b[0;36mdecode\u001b[0;34m(self, s, _w)\u001b[0m\n\u001b[1;32m    335\u001b[0m \u001b[0;34m\u001b[0m\u001b[0m\n\u001b[1;32m    336\u001b[0m         \"\"\"\n\u001b[0;32m--> 337\u001b[0;31m         \u001b[0mobj\u001b[0m\u001b[0;34m,\u001b[0m \u001b[0mend\u001b[0m \u001b[0;34m=\u001b[0m \u001b[0mself\u001b[0m\u001b[0;34m.\u001b[0m\u001b[0mraw_decode\u001b[0m\u001b[0;34m(\u001b[0m\u001b[0ms\u001b[0m\u001b[0;34m,\u001b[0m \u001b[0midx\u001b[0m\u001b[0;34m=\u001b[0m\u001b[0m_w\u001b[0m\u001b[0;34m(\u001b[0m\u001b[0ms\u001b[0m\u001b[0;34m,\u001b[0m \u001b[0;36m0\u001b[0m\u001b[0;34m)\u001b[0m\u001b[0;34m.\u001b[0m\u001b[0mend\u001b[0m\u001b[0;34m(\u001b[0m\u001b[0;34m)\u001b[0m\u001b[0;34m)\u001b[0m\u001b[0;34m\u001b[0m\u001b[0;34m\u001b[0m\u001b[0m\n\u001b[0m\u001b[1;32m    338\u001b[0m         \u001b[0mend\u001b[0m \u001b[0;34m=\u001b[0m \u001b[0m_w\u001b[0m\u001b[0;34m(\u001b[0m\u001b[0ms\u001b[0m\u001b[0;34m,\u001b[0m \u001b[0mend\u001b[0m\u001b[0;34m)\u001b[0m\u001b[0;34m.\u001b[0m\u001b[0mend\u001b[0m\u001b[0;34m(\u001b[0m\u001b[0;34m)\u001b[0m\u001b[0;34m\u001b[0m\u001b[0;34m\u001b[0m\u001b[0m\n\u001b[1;32m    339\u001b[0m         \u001b[0;32mif\u001b[0m \u001b[0mend\u001b[0m \u001b[0;34m!=\u001b[0m \u001b[0mlen\u001b[0m\u001b[0;34m(\u001b[0m\u001b[0ms\u001b[0m\u001b[0;34m)\u001b[0m\u001b[0;34m:\u001b[0m\u001b[0;34m\u001b[0m\u001b[0;34m\u001b[0m\u001b[0m\n",
            "\u001b[0;32m/usr/lib/python3.7/json/decoder.py\u001b[0m in \u001b[0;36mraw_decode\u001b[0;34m(self, s, idx)\u001b[0m\n\u001b[1;32m    353\u001b[0m             \u001b[0mobj\u001b[0m\u001b[0;34m,\u001b[0m \u001b[0mend\u001b[0m \u001b[0;34m=\u001b[0m \u001b[0mself\u001b[0m\u001b[0;34m.\u001b[0m\u001b[0mscan_once\u001b[0m\u001b[0;34m(\u001b[0m\u001b[0ms\u001b[0m\u001b[0;34m,\u001b[0m \u001b[0midx\u001b[0m\u001b[0;34m)\u001b[0m\u001b[0;34m\u001b[0m\u001b[0;34m\u001b[0m\u001b[0m\n\u001b[1;32m    354\u001b[0m         \u001b[0;32mexcept\u001b[0m \u001b[0mStopIteration\u001b[0m \u001b[0;32mas\u001b[0m \u001b[0merr\u001b[0m\u001b[0;34m:\u001b[0m\u001b[0;34m\u001b[0m\u001b[0;34m\u001b[0m\u001b[0m\n\u001b[0;32m--> 355\u001b[0;31m             \u001b[0;32mraise\u001b[0m \u001b[0mJSONDecodeError\u001b[0m\u001b[0;34m(\u001b[0m\u001b[0;34m\"Expecting value\"\u001b[0m\u001b[0;34m,\u001b[0m \u001b[0ms\u001b[0m\u001b[0;34m,\u001b[0m \u001b[0merr\u001b[0m\u001b[0;34m.\u001b[0m\u001b[0mvalue\u001b[0m\u001b[0;34m)\u001b[0m \u001b[0;32mfrom\u001b[0m \u001b[0;32mNone\u001b[0m\u001b[0;34m\u001b[0m\u001b[0;34m\u001b[0m\u001b[0m\n\u001b[0m\u001b[1;32m    356\u001b[0m         \u001b[0;32mreturn\u001b[0m \u001b[0mobj\u001b[0m\u001b[0;34m,\u001b[0m \u001b[0mend\u001b[0m\u001b[0;34m\u001b[0m\u001b[0;34m\u001b[0m\u001b[0m\n",
            "\u001b[0;31mJSONDecodeError\u001b[0m: Expecting value: line 1 column 1 (char 0)"
          ]
        }
      ]
    },
    {
      "cell_type": "code",
      "source": [
        "r,json()"
      ],
      "metadata": {
        "colab": {
          "base_uri": "https://localhost:8080/",
          "height": 169
        },
        "id": "ET_Z0XCKYI7X",
        "outputId": "ec204541-dd7e-4603-f981-fa94053a89ee"
      },
      "execution_count": null,
      "outputs": [
        {
          "output_type": "error",
          "ename": "NameError",
          "evalue": "ignored",
          "traceback": [
            "\u001b[0;31m---------------------------------------------------------------------------\u001b[0m",
            "\u001b[0;31mNameError\u001b[0m                                 Traceback (most recent call last)",
            "\u001b[0;32m<ipython-input-16-d73193558296>\u001b[0m in \u001b[0;36m<module>\u001b[0;34m()\u001b[0m\n\u001b[0;32m----> 1\u001b[0;31m \u001b[0mr\u001b[0m\u001b[0;34m,\u001b[0m\u001b[0mjson\u001b[0m\u001b[0;34m(\u001b[0m\u001b[0;34m)\u001b[0m\u001b[0;34m\u001b[0m\u001b[0;34m\u001b[0m\u001b[0m\n\u001b[0m",
            "\u001b[0;31mNameError\u001b[0m: name 'json' is not defined"
          ]
        }
      ]
    },
    {
      "cell_type": "code",
      "source": [
        ""
      ],
      "metadata": {
        "id": "X0E4cDJu3vQP"
      },
      "execution_count": null,
      "outputs": []
    }
  ]
}